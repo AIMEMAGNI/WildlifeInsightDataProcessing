{
  "cells": [
    {
      "cell_type": "markdown",
      "metadata": {
        "id": "37BV7-CMEbMj"
      },
      "source": [
        "# Data Processing Approach for Portfolio Project\n",
        "\n",
        "## Project Title: Wildlife Insight\n",
        "\n",
        "![My Image](https://drive.google.com/uc?id=1F0EL_rRY1YqvYQwMagWbk9Ce737aObJ-)\n",
        "\n",
        "## Student Name: Aime Magnifique NDAYISHIMIYE\n",
        "\n",
        "---\n",
        "\n",
        "1. **Data Sources and Aggregation:**\n",
        "\n",
        "  The primary data sources for this project include:\n",
        "   \n",
        "   - International Union for Conservation of Nature (IUCN) - Offers detailed information on species conservation status and their ecological roles, such as carbon sequestration and forest regeneration. [IUCN](https://www.iucnredlist.org/).\n",
        "\n",
        "   - Global Biodiversity Information Facility (GBIF) - Provides species distribution and occurrence data, which is essential for understanding species spread across different geographical locations. [GBIF](https://www.gbif.org/).\n",
        "   \n",
        "  These sources provide complementary data on species characteristics relevant to climate regulation, and data aggregation is necessary to gain a comprehensive understanding by integrating species roles and conservation statuses with geographical distribution.\n"
      ],
      "id": "37BV7-CMEbMj"
    },
    {
      "cell_type": "code",
      "source": [
        "import pandas as pd\n",
        "\n",
        "# Load data\n",
        "df = pd.read_csv('species_data.csv')\n",
        "\n",
        "# Sample 40% of the data for analysis\n",
        "df = df.sample(frac=0.4, random_state=42)\n",
        "\n",
        "# Drop unnecessary columns\n",
        "df = df.drop(['internalTaxonId', 'scientificName'], axis=1)\n",
        "\n",
        "# Display first few rows for verification\n",
        "print(df.head())\n"
      ],
      "metadata": {
        "id": "tSAenP0QODBw",
        "colab": {
          "base_uri": "https://localhost:8080/"
        },
        "outputId": "a215760c-5e15-440b-c66e-2d6a7265ca4f"
      },
      "id": "tSAenP0QODBw",
      "execution_count": 9,
      "outputs": [
        {
          "output_type": "stream",
          "name": "stdout",
          "text": [
            "           speciesName      systems           scopes    Category\n",
            "83506         arnaldoi  Terrestrial           Global  Lower Risk\n",
            "57785           blumei  Terrestrial           Global  Lower Risk\n",
            "58551          turneri  Terrestrial           Global  Lower Risk\n",
            "54972      piccioliana  Terrestrial  Global & Europe  Lower Risk\n",
            "103269  haematospermum  Terrestrial           Global  Lower Risk\n"
          ]
        }
      ]
    },
    {
      "cell_type": "markdown",
      "source": [
        "\n",
        "\n",
        "2. **Data Format Transformation:**\n",
        "\n",
        "   The original datasets are in CSV format. These CSV files will be imported into Pandas data frames, allowing for easier manipulation and transformation of the data for model training and testing. Necessary transformations will include encoding categorical features, scaling numerical fields, and converting specific columns to integer or float types as needed for the classification model.\n",
        "\n"
      ],
      "metadata": {
        "id": "tcrdSxVMOKx4"
      },
      "id": "tcrdSxVMOKx4"
    },
    {
      "cell_type": "code",
      "source": [
        "from sklearn.preprocessing import LabelEncoder\n",
        "\n",
        "# Encode categorical features\n",
        "label_encoders = {}\n",
        "for col in ['speciesName', 'systems', 'scopes', 'Category']:\n",
        "    le = LabelEncoder()\n",
        "    df[col] = le.fit_transform(df[col])\n",
        "    label_encoders[col] = le\n",
        "\n",
        "# Separate features and target\n",
        "X = df.drop('Category', axis=1)\n",
        "y = df['Category']\n",
        "\n",
        "print(f\"Features shape: {X.shape}, Target shape: {y.shape}\")"
      ],
      "metadata": {
        "id": "oGCZdLY3OM83",
        "colab": {
          "base_uri": "https://localhost:8080/"
        },
        "outputId": "ee8e252e-bd8a-45e9-ea3b-d94da8f84f57"
      },
      "id": "oGCZdLY3OM83",
      "execution_count": 11,
      "outputs": [
        {
          "output_type": "stream",
          "name": "stdout",
          "text": [
            "Features shape: (48237, 3), Target shape: (48237,)\n"
          ]
        }
      ]
    },
    {
      "cell_type": "markdown",
      "source": [
        "\n",
        "3. **Data Exploration:**\n",
        "\n",
        "   Features expected in the dataset include:\n",
        "\n",
        "   - Species name, conservation status, distribution range, ecological role, and habitat type.\n",
        "   \n",
        "   Exploratory Data Analysis (EDA): During EDA, it was observed that:\n",
        "\n",
        "   - Distributions: systems and scopes showed balanced distributions across categories, with no particular class overwhelmingly dominant.\n",
        "\n",
        "   - Outliers: The dataset was free from extreme outliers in terms of classification and categorical encodings.\n",
        "\n",
        "   Insight: The analysis reveals that the number of species in the \"Lower Risk\" category is nearly twice the combined count of those in the \"Endangered\" and \"Vulnerable\" categories, highlighting a significant imbalance in the dataset.\n",
        "   \n",
        "**Sample Code for EDA:**"
      ],
      "metadata": {
        "id": "TzyeghJDEjit"
      },
      "id": "TzyeghJDEjit"
    },
    {
      "cell_type": "code",
      "source": [
        "import seaborn as sns\n",
        "import matplotlib.pyplot as plt\n",
        "\n",
        "# Count plot for the target variable 'Category'\n",
        "sns.countplot(x='Category', data=df)\n",
        "plt.title('Distribution of Conservation Categories')\n",
        "plt.show()\n"
      ],
      "metadata": {
        "id": "nrq55wXSOFHX",
        "colab": {
          "base_uri": "https://localhost:8080/",
          "height": 472
        },
        "outputId": "018eb7e4-e4d5-45e2-8c12-5e37058760e3"
      },
      "id": "nrq55wXSOFHX",
      "execution_count": 10,
      "outputs": [
        {
          "output_type": "display_data",
          "data": {
            "text/plain": [
              "<Figure size 640x480 with 1 Axes>"
            ],
            "image/png": "[encoded data removed]"
          },
          "metadata": {}
        }
      ]
    },
    {
      "cell_type": "markdown",
      "source": [
        "  4. **Hypothesis Testing:**\n",
        "\n",
        "    Hypothesis: Species belonging to specific ecological systems (e.g., terrestrial or aquatic) are more likely to be classified into certain risk categories (e.g., \"Endangered,\" \"Vulnerable,\" or \"Lower Risk\") due to environmental pressures and habitat-specific threats.\n",
        "\n"
      ],
      "metadata": {
        "id": "x4M51jxTS4bO"
      },
      "id": "x4M51jxTS4bO"
    },
    {
      "cell_type": "code",
      "source": [
        "import pandas as pd\n",
        "from scipy.stats import chi2_contingency\n",
        "\n",
        "\n",
        "# Create a contingency table for ecological systems and risk categories\n",
        "contingency_table = pd.crosstab(df['systems'], df['Category'])\n",
        "\n",
        "# Perform a Chi-square test\n",
        "chi2, p, dof, expected = chi2_contingency(contingency_table)\n",
        "\n",
        "# Interpret results\n",
        "alpha = 0.05  # significance level\n",
        "if p < alpha:\n",
        "    print(f\"There's a Significant association between ecological systems and risk categories (p-value: {p:.4f}).\")\n",
        "else:\n",
        "    print(f\"No significant association found (p-value: {p:.4f}).\")\n"
      ],
      "metadata": {
        "id": "S3c_L9VBTTUC",
        "colab": {
          "base_uri": "https://localhost:8080/"
        },
        "outputId": "772b9ddf-b349-41d8-a094-f1177b571d3e"
      },
      "id": "S3c_L9VBTTUC",
      "execution_count": 13,
      "outputs": [
        {
          "output_type": "stream",
          "name": "stdout",
          "text": [
            "There's a Significant association between ecological systems and risk categories (p-value: 0.0000).\n"
          ]
        }
      ]
    },
    {
      "cell_type": "markdown",
      "source": [
        "\n",
        "5. **Handling Sparse/Dense Data and Outliers:**\n",
        "\n",
        "  - Missing Data Handling: No missing data was found in the categorical columns, so imputation was skipped.\n",
        "\n",
        "  - Outlier Handling: Outliers were capped to the nearest valid range defined by the IQR. For example, if a value was below the lower bound, it was replaced by the lower bound, and similarly for the upper bound.\n"
      ],
      "metadata": {
        "id": "tHKtxjFKFNpB"
      },
      "id": "tHKtxjFKFNpB"
    },
    {
      "cell_type": "code",
      "source": [
        "# Check for missing data\n",
        "missing_data = df.isnull().sum()\n",
        "print(\"Missing data per column:\")\n",
        "print(missing_data)\n",
        "\n",
        "# Handle missing data for numeric features (median imputation)\n",
        "numeric_columns = df.select_dtypes(include=['float64', 'int64']).columns\n",
        "df[numeric_columns] = df[numeric_columns].fillna(df[numeric_columns].median())\n",
        "\n",
        "# Handle missing data for categorical features (mode imputation)\n",
        "categorical_columns = df.select_dtypes(include=['object']).columns\n",
        "for col in categorical_columns:\n",
        "    if df[col].isnull().any():\n",
        "        df[col] = df[col].fillna(df[col].mode()[0])\n",
        "\n",
        "# Detecting outliers using IQR\n",
        "def handle_outliers(column):\n",
        "    Q1 = df[column].quantile(0.25)\n",
        "    Q3 = df[column].quantile(0.75)\n",
        "    IQR = Q3 - Q1\n",
        "    lower_bound = Q1 - 1.5 * IQR\n",
        "    upper_bound = Q3 + 1.5 * IQR\n",
        "    # Capping the outliers\n",
        "    df[column] = np.where(df[column] < lower_bound, lower_bound, df[column])\n",
        "    df[column] = np.where(df[column] > upper_bound, upper_bound, df[column])\n",
        "\n",
        "# Apply outlier handling to numeric features\n",
        "for col in numeric_columns:\n",
        "    handle_outliers(col)\n",
        "\n",
        "print(\"Data cleaning and outlier handling completed!\")\n"
      ],
      "metadata": {
        "colab": {
          "base_uri": "https://localhost:8080/"
        },
        "id": "GpznPvInBfqv",
        "outputId": "1a6f1bb4-7bef-46d2-f0fe-d99c9aba7ee0"
      },
      "id": "GpznPvInBfqv",
      "execution_count": 15,
      "outputs": [
        {
          "output_type": "stream",
          "name": "stdout",
          "text": [
            "Missing data per column:\n",
            "speciesName    0\n",
            "systems        0\n",
            "scopes         0\n",
            "Category       0\n",
            "dtype: int64\n",
            "Data cleaning and outlier handling completed!\n"
          ]
        }
      ]
    },
    {
      "cell_type": "markdown",
      "source": [
        "6. **Data Splitting:**\n",
        "   - Define a methodology to split the dataset into training, validation, and testing sets.\n",
        "   - Ensure randomness and representativeness in each subset.\n",
        "\n",
        "\n"
      ],
      "metadata": {
        "id": "5SS3lD0sGPGe"
      },
      "id": "5SS3lD0sGPGe"
    },
    {
      "cell_type": "code",
      "source": [
        "from sklearn.model_selection import train_test_split\n",
        "from sklearn.preprocessing import StandardScaler\n",
        "\n",
        "# Split data: 80% train, 20% test\n",
        "X_train, X_test, y_train, y_test = train_test_split(X, y, test_size=0.2, stratify=y, random_state=42)\n",
        "\n",
        "# Normalize data using StandardScaler\n",
        "scaler = StandardScaler()\n",
        "\n",
        "# Fit scaler on training data and transform both train and test sets\n",
        "X_train_scaled = scaler.fit_transform(X_train)\n",
        "X_test_scaled = scaler.transform(X_test)\n",
        "\n",
        "# Output shapes for confirmation\n",
        "print(f\"Training data shape: {X_train_scaled.shape}, Testing data shape: {X_test_scaled.shape}\")\n"
      ],
      "metadata": {
        "id": "iX_5Hl65GEgY",
        "colab": {
          "base_uri": "https://localhost:8080/"
        },
        "outputId": "f55cecca-2926-4bc2-a2a2-31a3bca922bb"
      },
      "id": "iX_5Hl65GEgY",
      "execution_count": 16,
      "outputs": [
        {
          "output_type": "stream",
          "name": "stdout",
          "text": [
            "Training data shape: (38589, 3), Testing data shape: (9648, 3)\n"
          ]
        }
      ]
    },
    {
      "cell_type": "markdown",
      "source": [
        "8. **Features for Model Training:**\n",
        "\n",
        "  Selected Features:\n",
        "\n",
        "    - speciesName: Encoded as numerical values representing species.\n",
        "    - systems: Ecological systems associated with the species.\n",
        "    - scopes: Geographic or functional scope of the species.\n",
        "\n",
        "  Target Variable:\n",
        "\n",
        "    - Category: The risk category for each species (e.g., Lower Risk, Endangered, Vulnerable).\n",
        "\n"
      ],
      "metadata": {
        "id": "ls7rBI2lTb0Q"
      },
      "id": "ls7rBI2lTb0Q"
    },
    {
      "cell_type": "markdown",
      "source": [
        "\n",
        "9.A. **Types of Data Handling:**\n",
        "\n",
        "   - Categorical Data Handling:\n",
        "\n",
        "    Categorical data consists of values that represent categories or classes, such as speciesName, systems, and scopes. This type of data cannot be directly used by most machine learning models and thus requires transformation into a numerical format.\n",
        "\n",
        "    Steps for Handling Categorical Data:\n",
        "\n",
        "\n",
        "                  1. Identify categorical features in the dataset.\n",
        "                  2. Apply Label Encoding to convert these categorical features into numerical form.\n",
        "                  3. Impute missing categorical values using the most frequent value (mode).\n",
        "    \n"
      ],
      "metadata": {
        "id": "OzGrkCCXGUxV"
      },
      "id": "OzGrkCCXGUxV"
    },
    {
      "cell_type": "code",
      "source": [
        "from sklearn.preprocessing import LabelEncoder\n",
        "from sklearn.impute import SimpleImputer\n",
        "\n",
        "# Identify categorical columns (adjust as per your actual columns)\n",
        "categorical_columns = ['speciesName', 'systems', 'scopes']\n",
        "\n",
        "# Apply Label Encoding\n",
        "label_encoders = {}\n",
        "for col in categorical_columns:\n",
        "    le = LabelEncoder()\n",
        "    df[col] = le.fit_transform(df[col])\n",
        "    label_encoders[col] = le  # Store the encoder for potential inverse transformation\n",
        "\n",
        "# Handling missing data in categorical columns: Impute missing values using mode\n",
        "imputer_cat = SimpleImputer(strategy='most_frequent')\n",
        "df[categorical_columns] = imputer_cat.fit_transform(df[categorical_columns])\n",
        "\n",
        "print(\"Categorical data after encoding and imputation:\")\n",
        "print(df[categorical_columns].head())\n"
      ],
      "metadata": {
        "id": "EBD1iW2vTWQP",
        "colab": {
          "base_uri": "https://localhost:8080/"
        },
        "outputId": "fdf82826-e63c-44c5-dce2-2b8aaa32e67c"
      },
      "id": "EBD1iW2vTWQP",
      "execution_count": 19,
      "outputs": [
        {
          "output_type": "stream",
          "name": "stdout",
          "text": [
            "Categorical data after encoding and imputation:\n",
            "        speciesName  systems  scopes\n",
            "83506          1704        0       0\n",
            "57785          3120        0       0\n",
            "58551         25849        0       0\n",
            "54972         19369        0       0\n",
            "103269        10455        0       0\n"
          ]
        }
      ]
    },
    {
      "cell_type": "markdown",
      "source": [
        "9.B. **Types of Data Handling:**\n",
        "\n",
        "- Outlier Detection:\n",
        "\n",
        "    Steps for Handling Categorical Data:\n",
        "\n",
        "\n",
        "                  1. Calculate the Q1 (25th percentile) and Q3 (75th percentile) values for the numerical features.\n",
        "\n",
        "                  2. Compute the IQR as the difference between Q3 and Q1.\n",
        "\n",
        "                  3. Identify values that are outside the range defined by Q1 - 1.5 * IQR (lower bound) or Q3 + 1.5 * IQR (upper bound).\n",
        "                  \n",
        "\n"
      ],
      "metadata": {
        "id": "1GNbQuUwHWDR"
      },
      "id": "1GNbQuUwHWDR"
    },
    {
      "cell_type": "code",
      "source": [
        "# Detecting outliers using IQR (Interquartile Range)\n",
        "numerical_columns = ['speciesName', 'systems', 'scopes']  # Replace with actual numerical columns\n",
        "\n",
        "Q1 = df[numerical_columns].quantile(0.25)\n",
        "Q3 = df[numerical_columns].quantile(0.75)\n",
        "IQR = Q3 - Q1\n",
        "\n",
        "# Outlier detection (values below Q1 - 1.5*IQR or above Q3 + 1.5*IQR are considered outliers)\n",
        "outliers = ((df[numerical_columns] < (Q1 - 1.5 * IQR)) | (df[numerical_columns] > (Q3 + 1.5 * IQR)))\n",
        "\n",
        "# Extract rows with outliers\n",
        "outlier_rows = df[outliers.any(axis=1)]\n",
        "\n",
        "print(f\"Outliers detected in the following rows:\\n{outlier_rows}\")\n"
      ],
      "metadata": {
        "colab": {
          "base_uri": "https://localhost:8080/"
        },
        "id": "qVxiqFc1Im6a",
        "outputId": "6952d925-5114-4e20-abcc-583b64eaabbc"
      },
      "id": "qVxiqFc1Im6a",
      "execution_count": 20,
      "outputs": [
        {
          "output_type": "stream",
          "name": "stdout",
          "text": [
            "Outliers detected in the following rows:\n",
            "Empty DataFrame\n",
            "Columns: [speciesName, systems, scopes, Category]\n",
            "Index: []\n"
          ]
        }
      ]
    },
    {
      "cell_type": "markdown",
      "source": [
        "\n",
        "10. **Data Transformation for Modeling:**\n",
        "\n",
        "    - Label Encoding for Categorical Variables Label Encoding converts categorical variables into numeric labels (e.g., \"Endangered\" becomes 0, \"Lower Risk\" becomes 1).\n",
        "\n",
        "    - Standard Scaling for Numerical Features Standard Scaling standardizes numerical features to have a mean of 0 and a standard deviation of 1, which is crucial for algorithms that depend on distance metrics or gradient descent.\n"
      ],
      "metadata": {
        "id": "Z57L3G3STl_8"
      },
      "id": "Z57L3G3STl_8"
    },
    {
      "cell_type": "code",
      "source": [
        "from sklearn.preprocessing import LabelEncoder, StandardScaler\n",
        "\n",
        "# Initialize the LabelEncoder and StandardScaler\n",
        "label_encoder = LabelEncoder()\n",
        "scaler = StandardScaler()\n",
        "\n",
        "# Apply Label Encoding to categorical columns (e.g., 'Category')\n",
        "df['Category'] = label_encoder.fit_transform(df['Category'])\n",
        "\n",
        "# Select numerical columns for scaling (excluding the 'Category' column since it's now encoded)\n",
        "numeric_columns = df.select_dtypes(include=['float64', 'int64']).columns\n",
        "\n",
        "# Apply Standard Scaling to numerical columns\n",
        "df[numeric_columns] = scaler.fit_transform(df[numeric_columns])\n",
        "\n",
        "print(\"Data after Label Encoding and Scaling:\")\n",
        "print(df.head())\n"
      ],
      "metadata": {
        "colab": {
          "base_uri": "https://localhost:8080/"
        },
        "id": "fYOPMQbOIO1c",
        "outputId": "79922f46-af99-44fd-c81b-33635805665a"
      },
      "id": "fYOPMQbOIO1c",
      "execution_count": 21,
      "outputs": [
        {
          "output_type": "stream",
          "name": "stdout",
          "text": [
            "Data after Label Encoding and Scaling:\n",
            "        speciesName  systems  scopes  Category\n",
            "83506     -1.518061      0.0     0.0       0.0\n",
            "57785     -1.338524      0.0     0.0       0.0\n",
            "58551      1.543332      0.0     0.0       0.0\n",
            "54972      0.721720      0.0     0.0       0.0\n",
            "103269    -0.408504      0.0     0.0       0.0\n"
          ]
        }
      ]
    },
    {
      "cell_type": "markdown",
      "source": [
        "\n",
        "11. **Data Storage:**\n",
        "\n",
        "    - Processed data is stored locally and backed up on [Google Drive](https://drive.google.com/file/d/1yk5yUG6tBlMrhpgDE9JfEfGkWkZQcdZq/view?usp=sharing), ensuring accessibility across devices and preventing data loss.\n"
      ],
      "metadata": {
        "id": "lG_mx92GGX6W"
      },
      "id": "lG_mx92GGX6W"
    },
    {
      "cell_type": "code",
      "source": [],
      "metadata": {
        "id": "oMXwnAl6Lsf5"
      },
      "id": "oMXwnAl6Lsf5",
      "execution_count": null,
      "outputs": []
    }
  ],
  "metadata": {
    "kernelspec": {
      "display_name": "Python 3",
      "language": "python",
      "name": "python3"
    },
    "language_info": {
      "codemirror_mode": {
        "name": "ipython",
        "version": 3
      },
      "file_extension": ".py",
      "mimetype": "text/x-python",
      "name": "python",
      "nbconvert_exporter": "python",
      "pygments_lexer": "ipython3",
      "version": "3.9.7"
    },
    "colab": {
      "provenance": []
    }
  },
  "nbformat": 4,
  "nbformat_minor": 5
}